{
 "cells": [
  {
   "cell_type": "markdown",
   "metadata": {},
   "source": [
    "# Imports"
   ]
  },
  {
   "cell_type": "code",
   "execution_count": 2,
   "metadata": {},
   "outputs": [],
   "source": [
    "import pandas as pd  # working with data frames, a versatile tabular data structure\n",
    "from ipywidgets import Layout  # display interactive widgets in notebook\n",
    "from ipyleaflet import Map, Marker, MarkerCluster  # interactive mapping"
   ]
  },
  {
   "cell_type": "markdown",
   "metadata": {},
   "source": [
    "# Mapping"
   ]
  },
  {
   "cell_type": "code",
   "execution_count": 3,
   "metadata": {},
   "outputs": [
    {
     "data": {
      "application/vnd.jupyter.widget-view+json": {
       "model_id": "cc853dce9d6b43778b3be1dfc3f06fb3",
       "version_major": 2,
       "version_minor": 0
      },
      "text/plain": [
       "Map(center=[55.68, 12.57], controls=(ZoomControl(options=['position', 'zoom_in_text', 'zoom_in_title', 'zoom_o…"
      ]
     },
     "metadata": {},
     "output_type": "display_data"
    }
   ],
   "source": [
    "df = pd.read_csv('data/processed.csv')\n",
    "\n",
    "ldf = df[['Guest Location', 'guest_lat', 'guest_lon']].dropna(how='any')\n",
    "\n",
    "guest_markers = []\n",
    "for lat, lon, loc in zip(ldf.guest_lat, ldf.guest_lon, ldf['Guest Location']):\n",
    "    marker = Marker(location=(lat,lon), title=loc)\n",
    "    guest_markers.append(marker)\n",
    "\n",
    "ms = guest_markers[:1050] + guest_markers[1450:]\n",
    "\n",
    "m = Map(center=(55.68,12.57), zoom=8, layout=Layout(width='960px', height='768px'))\n",
    "\n",
    "\n",
    "marker_cluster = MarkerCluster(\n",
    "    markers=tuple(ms)\n",
    ")\n",
    "\n",
    "m.add_layer(marker_cluster);\n",
    "\n",
    "m"
   ]
  },
  {
   "cell_type": "code",
   "execution_count": 4,
   "metadata": {},
   "outputs": [],
   "source": [
    "ldf = df[['Rental Anon', 'property_lat', 'property_lon']].drop_duplicates().dropna(how='any')\n",
    "property_markers = [Marker(location=point) for point in list(zip(ldf.property_lat, ldf.property_lon))]"
   ]
  },
  {
   "cell_type": "code",
   "execution_count": 33,
   "metadata": {},
   "outputs": [
    {
     "data": {
      "application/vnd.jupyter.widget-view+json": {
       "model_id": "6a55e46f3dca4f1091733757031c1697",
       "version_major": 2,
       "version_minor": 0
      },
      "text/plain": [
       "Map(center=[55.68, 12.57], controls=(ZoomControl(options=['position', 'zoom_in_text', 'zoom_in_title', 'zoom_o…"
      ]
     },
     "metadata": {},
     "output_type": "display_data"
    }
   ],
   "source": [
    "m = Map(center=(55.68,12.57), zoom=13)\n",
    "\n",
    "\n",
    "marker_cluster = MarkerCluster(\n",
    "    markers=tuple(property_markers)\n",
    ")\n",
    "\n",
    "m.add_layer(marker_cluster);\n",
    "\n",
    "m"
   ]
  }
 ],
 "metadata": {
  "kernelspec": {
   "display_name": "Python 3",
   "language": "python",
   "name": "python3"
  },
  "language_info": {
   "codemirror_mode": {
    "name": "ipython",
    "version": 3
   },
   "file_extension": ".py",
   "mimetype": "text/x-python",
   "name": "python",
   "nbconvert_exporter": "python",
   "pygments_lexer": "ipython3",
   "version": "3.7.7"
  }
 },
 "nbformat": 4,
 "nbformat_minor": 2
}
